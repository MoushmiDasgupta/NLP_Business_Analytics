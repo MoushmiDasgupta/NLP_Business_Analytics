{
  "nbformat": 4,
  "nbformat_minor": 0,
  "metadata": {
    "colab": {
      "provenance": [],
      "collapsed_sections": []
    },
    "kernelspec": {
      "name": "python3",
      "display_name": "Python 3"
    },
    "language_info": {
      "name": "python"
    }
  },
  "cells": [
    {
      "cell_type": "code",
      "source": [
        "import nltk\n",
        "import numpy as np\n",
        "import random\n",
        "import string # to process standard python strings\n",
        "from sklearn.feature_extraction.text import TfidfVectorizer\n",
        "from sklearn.metrics.pairwise import cosine_similarity\n"
      ],
      "metadata": {
        "id": "3m0c3CmT_bg7"
      },
      "execution_count": null,
      "outputs": []
    },
    {
      "cell_type": "code",
      "source": [
        "from google.colab import drive\n",
        "drive.mount('/content/drive')"
      ],
      "metadata": {
        "colab": {
          "base_uri": "https://localhost:8080/"
        },
        "id": "HfNBtxhY_MNs",
        "outputId": "9bfe90fc-4b29-4ee4-f671-2bc455e42980"
      },
      "execution_count": null,
      "outputs": [
        {
          "output_type": "stream",
          "name": "stdout",
          "text": [
            "Drive already mounted at /content/drive; to attempt to forcibly remount, call drive.mount(\"/content/drive\", force_remount=True).\n"
          ]
        }
      ]
    },
    {
      "cell_type": "code",
      "source": [
        "f=open('/content/drive/MyDrive/NLP Training/Module 5 Chatbot/chatbot.txt','r',errors = 'ignore')\n",
        "raw=f.read()\n",
        "raw=raw.lower()# converts to lowercase\n",
        "raw"
      ],
      "metadata": {
        "colab": {
          "base_uri": "https://localhost:8080/",
          "height": 179
        },
        "id": "9oFfNaDh_j69",
        "outputId": "94b827d9-a7c4-4349-e6a2-63caaa0a24b5"
      },
      "execution_count": null,
      "outputs": [
        {
          "output_type": "execute_result",
          "data": {
            "text/plain": [
              "'\\nchatbot\\nfrom wikipedia, the free encyclopedia\\njump to navigationjump to search\\nfor other uses, see chatbot (disambiguation).\\n\\na virtual assistant chatbot\\na chatbot is a computer program which conducts a conversation via auditory or textual methods.[1] such programs are often designed to convincingly simulate how a human would behave as a conversational partner, although as of 2019, they are far short of being able to pass the turing test.[2] chatbots are typically used in dialog systems for various practical purposes including customer service or information acquisition. some chatbots use sophisticated natural language processing systems, but many simpler ones scan for keywords within the input, then pull a reply with the most matching keywords, or the most similar wording pattern, from a database.\\n\\nthe term \"chatterbot\" was originally coined by michael mauldin (creator of the first verbot, julia) in 1994 to describe these conversational programs.[3] today, most chatbots are accessed via virtual assistants such as google assistant and amazon alexa, via messaging apps such as facebook messenger or wechat, or via individual organizations\\' apps and websites.[4][5] chatbots can be classified into usage categories such as conversational commerce (e-commerce via chat), analytics, communication, customer support, design, developer tools, education, entertainment, finance, food, games, health, hr, marketing, news, personal, productivity, shopping, social, sports, travel and utilities.[6]\\n\\nbeyond chatbots, conversational ai refers to the use of messaging apps, speech-based assistants and chatbots to automate communication and create personalized customer experiences at scale.[7]\\n\\n\\ncontents\\n1\\tbackground\\n2\\tdevelopment\\n3\\tapplication\\n3.1\\tmessaging apps\\n3.1.1\\tas part of company apps and websites\\n3.1.2\\tchatbot sequences\\n3.2\\tcompany internal platforms\\n3.3\\tbanking\\n3.4\\ttoys\\n4\\tchatbot development platforms\\n5\\tmalicious use\\n6\\tlimitations of chatbots\\n7\\tchatbots and jobs\\n8\\tsee also\\n9\\treferences\\n9.1\\tfurther reading\\nbackground\\nin 1950, alan turing\\'s famous article \"computing machinery and intelligence\" was published,[8] which proposed what is now called the turing test as a criterion of intelligence. this criterion depends on the ability of a computer program to impersonate a human in a real-time written conversation with a human judge, sufficiently well that the judge is unable to distinguish reliably—on the basis of the conversational content alone—between the program and a real human. the notoriety of turing\\'s proposed test stimulated great interest in joseph weizenbaum\\'s program eliza, published in 1966, which seemed to be able to fool users into believing that they were conversing with a real human. however weizenbaum himself did not claim that eliza was genuinely intelligent, and the introduction to his paper presented it more as a debunking exercise:\\n\\n[in] artificial intelligence ... machines are made to behave in wondrous ways, often sufficient to dazzle even the most experienced observer. but once a particular program is unmasked, once its inner workings are explained ... its magic crumbles away; it stands revealed as a mere collection of procedures ... the observer says to himself \"i could have written that\". with that thought he moves the program in question from the shelf marked \"intelligent\", to that reserved for curios ... the object of this paper is to cause just such a re-evaluation of the program about to be \"explained\". few programs ever needed it more.[9]\\n\\neliza\\'s key method of operation (copied by chatbot designers ever since) involves the recognition of clue words or phrases in the input, and the output of corresponding pre-prepared or pre-programmed responses that can move the conversation forward in an apparently meaningful way (e.g. by responding to any input that contains the word \\'mother\\' with \\'tell me more about your family\\').[10] thus an illusion of understanding is generated, even though the processing involved has been merely superficial. eliza showed that such an illusion is surprisingly easy to generate, because human judges are so ready to give the benefit of the doubt when conversational responses are capable of being interpreted as \"intelligent\".\\n\\ninterface designers have come to appreciate that humans\\' readiness to interpret computer output as genuinely conversational—even when it is actually based on rather simple pattern-matching—can be exploited for useful purposes. most people prefer to engage with programs that are human-like, and this gives chatbot-style techniques a potentially useful role in interactive systems that need to elicit information from users, as long as that information is relatively straightforward and falls into predictable categories. thus, for example, online help systems can usefully employ chatbot techniques to identify the area of help that users require, potentially providing a \"friendlier\" interface than a more formal search or menu system. this sort of usage holds the prospect of moving chatbot technology from weizenbaum\\'s \"shelf ... reserved for curios\" to that marked \"genuinely useful computational methods\".\\n\\ndevelopment\\nthe classic historic early chatbots are eliza (1966) and parry (1972).[11][12][13][14] more recent notable programs include a.l.i.c.e., jabberwacky and d.u.d.e (agence nationale de la recherche and cnrs 2006). while eliza and parry were used exclusively to simulate typed conversation, many chatbots now include functional features such as games and web searching abilities. in 1984, a book called the policeman\\'s beard is half constructed was published, allegedly written by the chatbot racter (though the program as released would not have been capable of doing so).[15]\\n\\none pertinent field of ai research is natural language processing. usually, weak ai fields employ specialized software or programming languages created specifically for the narrow function required. for example, a.l.i.c.e. uses a markup language called aiml, which is specific to its function as a conversational agent, and has since been adopted by various other developers of, so called, alicebots. nevertheless, a.l.i.c.e. is still purely based on pattern matching techniques without any reasoning capabilities, the same technique eliza was using back in 1966. this is not strong ai, which would require sapience and logical reasoning abilities.\\n\\njabberwacky learns new responses and context based on real-time user interactions, rather than being driven from a static database. some more recent chatbots also combine real-time learning with evolutionary algorithms that optimise their ability to communicate based on each conversation held. still, there is currently no general purpose conversational artificial intelligence, and some software developers focus on the practical aspect, information retrieval.\\n\\nchatbot competitions focus on the turing test or more specific goals. two such annual contests are the loebner prize and the chatterbox challenge (the latter has been offline since 2015, however materials can still be found from web archives).[16]\\n\\napplication\\nsee also: virtual assistant\\n\\naeromexico airline chatbot running on facebook messenger, march 2018\\nchatbots are used in a diverse fashion, across all verticals and on many different types of channel, e.g. websites, social messaging, etc. in business their application accelerated rapidly in 2019, leading van baker, research vice president at gartner, to predict that: “by 2020, over 50% of medium to large enterprises will have deployed product chatbots.\"[17]\\n\\nmessaging apps\\nmany companies\\' chatbots run on messaging apps or simply via sms. they are used for b2c customer service, sales and marketing.[18]\\n\\nin 2016, facebook messenger allowed developers to place chatbots on their platform. there were 30,000 bots created for messenger in the first six months, rising to 100,000 by september 2017. [19]\\n\\nsince september 2017, this has also been as part of a pilot program on whatsapp. airlines klm and aeroméxico both announced their participation in the testing;[20][21][22][23] both airlines had previously launched customer services on the facebook messenger platform.\\n\\nthe bots usually appear as one of the user\\'s contacts, but can sometimes act as participants in a group chat.\\n\\nmany banks, insurers, media companies, e-commerce companies, airlines, hotel chains, retailers, health care providers, government entities and restaurant chains have used chatbots to answer simple questions, increase customer engagement,[24] for promotion, and to offer additional ways to order from them.[25][26]\\n\\na 2017 study showed 4% of companies used chatbots.[27] according to a 2016 study, 80% of businesses said they intended to have one by 2020.[28]\\n\\nas part of company apps and websites\\nprevious generations of chatbots were present on company websites, e.g. ask jenn from alaska airlines which debuted in 2008[29] or expedia\\'s virtual customer service agent which launched in 2011.[29][30] the newer generation of chatbots includes ibm watson-powered \"rocky\", introduced in february 2017 by the new york city-based e-commerce company rare carat to provide information to prospective diamond buyers.[31][32]\\n\\nchatbot sequences\\nused by marketers to script sequnces of messages, very similar to an autoresponder sequence. such sequences can be triggered by user opt-in or the use of keywords within user interactions. after a trigger occurs a sequnce of messages is delivered until the next anticipated user response. each user response is used in the decision tree to help the chat bot navigate the response sequnces to deliver the correct response message.\\n\\ncompany internal platforms\\nother companies explore ways they can use chatbots internally, for example for customer support, human resources, or even in internet-of-things (iot) projects. overstock.com, for one, has reportedly launched a chatbot named mila to automate certain simple yet time-consuming processes when requesting for a sick leave.[33] other large companies such as lloyds banking group, royal bank of scotland, renault and citroën are now using automated online assistants instead of call centres with humans to provide a first point of contact. a saas chatbot business ecosystem has been steadily growing since the f8 conference when facebook\\'s mark zuckerberg unveiled that messenger would allow chatbots into the app.[34] in large companies, like in hospitals and aviation organizations, it architects are designing reference architectures for intelligent chatbots that are used to unlock and share knowledge and experience in the organization more efficiently, and reduce the errors in answers from expert service desks significantly.[35] these intelligent chatbots make use of all kinds of artificial intelligence like image moderation and natural language understanding (nlu), natural language generation (nlg), machine learning and deep learning.\\n\\nbanking\\nnowadays a high majority of high-tech banking organizations are looking for integration of automated ai-based solutions such as chatbots in their customer service in order to provide faster and cheaper assistance to their clients becoming increasingly technodexterous. in particularly, chatbots can efficiently conduct a dialogue, usually substituting other communication tools such as email, phone, or sms. in banking area their major application is related to quick customer service answering common requests, and transactional support.\\n\\nseveral studies accomplished by analytics agencies such as juniper or gartner [36] report significant reduction of cost of customer services, leading to billions of dollars of economy in the next 10 years. gartner predicts an integration by 2020 of chatbots in at least 85% of all client\\'s applications to customer service. juniper\\'s study announces an impressive amount of $8 billion retained annually by 2022 due to the use of chatbots.\\n\\nsince 2016 when facebook allows businesses to deliver automated customer support, e-commerce guidance, content and interactive experiences through chatbots, a large variety of chatbots for facebook messenger platform were developed.[37] in 2016, russia-based tochka bank launched the world\\'s first facebook bot for a range of financial services, in particularly including a possibility of making payments. [38] in july 2016, barclays africa also launched a facebook chatbot, making it the first bank to do so in africa. [39]\\n\\nthe france\\'s third largest bank by total assets [40] société générale launched their chatbot called sobot in march 2018. while the 80% of users of the sobot express their satisfaction after having tested it, il will never remplace the expertise provided by a human advisor according to sg deputy director bertrand cozzarolo. [41]\\n\\nthere are several potential advantages of using chatbots in interaction with customer in banking:[42]\\n\\ncost reduction. chatbots eliminate the obligation of any human presence during online interaction and are so long seen as a huge advantage by companies operating with multiple repetitive queries at once as long as they don\\'t require any decision-making procedure.[43]\\nhuman touch. chatbots, providing an interface similar to human-to-human interaction, are more intuitive and so less difficult to use than a standard banking mobile application. they doesn\\'t require any additional software installation and are more adaptive as able to be personalized during the exploitation by the means of machine learning. chatbots are instant and so much faster that phone calls, shown to be considered as tedious in some studies. then they satisfy both speed and personalization requirement while interacting with a bank.\\nfinancial advice. state-of-the-art banking assistants can, by accessing personal customer\\'s data such as consumer behavior or history of purchases, provide useful information on client\\'s account and use it to develop ai-based recommendations for better adapted money management.\\nattracting new clients. a chatbot greeting a bank\\'s website guest can provide some useful and relevant information, helping to exploit the offered products and services in a personalized manner helps to attract the potential client and the he is more likely to end by creation of a new account.[42]\\n24/7 digital support. an instant and always accessible assistant is assumed by the more and more digital consumer of the new era.[36] unlike humans, chatbots once developed and installed don\\'t have a limited workdays, holidays or weekends and are ready to attend queries at any hour of the day. it helps to the customer to avoid waiting of a company\\'s agent to be available. thus, the customer doesn\\'t have to wait for the company executive to help them. this also lets companies keep an eye on the traffic during the non-working hours and reach out to them later.[43]\\ntoys\\nchatbots have also been incorporated into devices not primarily meant for computing such as toys.[44]\\n\\nhello barbie is an internet-connected version of the doll that uses a chatbot provided by the company toytalk,[45] which previously used the chatbot for a range of smartphone-based characters for children.[46] these characters\\' behaviors are constrained by a set of rules that in effect emulate a particular character and produce a storyline.[47]\\n\\nibm\\'s watson computer has been used as the basis for chatbot-based educational toys for companies such as cognitoys[44] intended to interact with children for educational purposes.[48]\\n\\nchatbot development platforms\\nthe process of building, testing and deploying chatbots can be done on cloud-based chatbot development platforms[49] offered by cloud platform as a service (paas) providers such as oracle cloud platform [50][30] and ibm watson.[51][52][53] these cloud platforms provide natural language processing, artificial intelligence and mobile backend as a service for chatbot development.\\n\\napi\\n\\nsome companies like microsoft azure and aarc are currently providing their bot engines through which chatbot platforms or software can be developed\\n\\nmalicious use\\nmalicious chatbots are frequently used to fill chat rooms with spam and advertisements, by mimicking human behavior and conversations or to entice people into revealing personal information, such as bank account numbers. they are commonly found on yahoo! messenger, windows live messenger, aol instant messenger and other instant messaging protocols. there has also been a published report of a chatbot used in a fake personal ad on a dating service\\'s website.[54]\\n\\ntay, an ai chatbot that learns from previous interaction, caused major controversy due to it being targeted by internet trolls on twitter. the bot was exploited, and after 16 hours began to send extremely offensive tweets to users. this suggests that although the bot learnt effectively from experience, adequate protection was not put in place to prevent misuse.[55]\\n\\nif a text-sending algorithm can pass itself off as a human instead of a chatbot, its message would be more credible. therefore, human-seeming chatbots with well-crafted online identities could start scattering fake news that seem plausible, for instance making false claims during a presidential election. with enough chatbots, it might be even possible to achieve artificial social proof.[56][57]\\n\\nlimitations of chatbots\\nthe creation and implementation of chatbots is still a developing area, heavily related to artificial intelligence and machine learning, so the provided solutions, while possessing obvious advantages, have some important limitations in terms of functionalities and use cases. however this is changing over time.\\n\\nthe most common ones are listed below:[58]\\n\\nas the database, used for output generation, is fixed and limited, chatbots can fail while dealing with an unsaved query.[43]\\nchatbot\\'s efficiency highly depends on language processing and is limited because of irregularities, such as accents and mistakes that can create an important barrier for international and multi-cultural organisations [59]\\nchatbots are unable to deal with multiple questions at the same time and so conversation opportunities are limited.[58]\\nas it happens usually with technology-led changes in existing services, some consumers, more often than not from the old generation, are uncomfortable with chatbots due to their limited understanding, making it obvious that their requests are being dealt machines.[58]\\nchatbots and jobs\\nchatbots are increasingly present in businesses and often are used to automate tasks that do not require skill-based talents. with customer service taking place via messaging apps as well as phone calls, there are growing numbers of use-cases where chatbot deployment gives organisations a clear return on investment. call centre workers may be particularly at risk from ai-driven chatbots.[60]\\n\\na study by forrester (june 2017) predicts that 25% of today\\'s jobs will most likely be impacted by ai technologies by 2019.[61]\\n\\nsee also\\napplications of artificial intelligence\\neugene goostman\\ninteractive online characters\\nsocial bot\\ntwitterbot\\nlist of chatterbots\\nreferences\\n \"what is a chatbot?\". techtarget.com. retrieved 30 january 2017.\\n luka bradeško, dunja mladenić. \"a survey of chabot systems through a loebner prize competition\" (pdf). retrieved 28 june 2019.\\n mauldin 1994\\n orf, darren. \"google assistant is a mega ai bot that wants to be absolutely everywhere\".\\n \"the 8 best chatbots of 2016\". 21 december 2016.\\n \"2017 messenger bot landscape, a public spreadsheet gathering 1000+ messenger bots\". 3 may 2017.\\n https://georgianpartners.com/investment-thesis-areas/overview-conversational-ai/\\n (turing 1950)\\n (weizenbaum 1966, p. 36)\\n (weizenbaum 1966, pp. 44–5)\\n güzelderefranchi 1995\\n computer history museum 2006\\n sondheim 1997\\n network working group 1973—transcript of a session between parry and eliza. (this is not the dialogue from the iccc, which took place october 24–26, 1972, whereas this session is from september 18, 1972.)\\n www.everything.com 13 november 1999\\n ‹see tfd›(in german) chatroboter simulieren menschen\\n \"chatbots will appeal to modern workers\". 2018-03-28. retrieved 2019-07-04.\\n beaver, laurie (july 2016). the chatbots explainer. bi intelligence.\\n \"facebook messenger hits 100,000 bots\". 2017-04-18. retrieved 2017-09-22.\\n \"klm claims airline first with whatsapp business platform\".\\n staff, forbes (26 october 2017). \"aeroméxico te atenderá por whatsapp durante 2018\". retrieved 2 july 2018.\\n redacción (27 october 2017). \"podrás hacer \\'check in\\' y consultar tu vuelo con aeroméxico a través de whatsapp\". huffington post. retrieved 2 july 2018 – via huff post.\\n \"building for people, and now businesses\". whatsapp.com. retrieved 2 july 2018.\\n \"she is the company\\'s most effective employee\". nordea news.\\n \"better believe the bot boom is blowing up big for b2b, b2c businesses\". venturebeat. 2016-07-24.\\n \"chatbots take education to the next level – chatbot news daily\". chatbot news daily. 2016-09-29. retrieved 2017-06-23.\\n \"the ai revolution is underway! – pm360\". www.pm360online.com. retrieved 2 july 2018.\\n \"80% of businesses want chatbots by 2020\". retrieved 2 july 2018.\\n \"a virtual travel agent with all the answers\". the new york times. 4 march 2008.\\n \"chatbot vendor directory released –\". www.hypergridbusiness.com.\\n \"rare carat\\'s watson-powered chatbot will help you put a diamond ring on it\". techcrunch. february 15, 2017.\\n \"10 ways you may have already used ibm watson\". venturebeat. march 10, 2017.\\n greenfield, rebecca. \"chatbots are your newest, dumbest co-workers\". bloomberg.\\n \"facebook opens its messenger platform to chatbots\". 12 april 2016.\\n \"chatbot reference architecture\". 1 january 2019.\\n \"how chatbots are transforming wall street and main street banks?\". 1 april 2019.\\n \"facebook launches messenger platrofm with chatbots\". 1 april 2019.\\n \"российский банк запустил чат-бота в facebook\". 1 april 2019.\\n \"absa launches \\'world-first\\' facebook messenger banking\". 1 april 2019.\\n \"the biggest french banks by total assets\". banks around the world. retrieved april 1, 2019.\\n \"gagner du temps avec le chatbot bancaire pour gagner en intelligence avec les conseillers\". marketing client. retrieved april 1, 2019.\\n \"meet 11 of the most interesting chatbots in banking\". the financial brain. retrieved april 1, 2019.\\n \"chatbots: boon or bane?\". bluelupin. retrieved april 1, 2019.\\n amy (2015-02-23). \"conversational toys – the latest trend in speech technology\". virtual agent chat. retrieved 2016-08-11.\\n nagy, evie. \"using toytalk technology, new hello barbie will have real conversations with kids\". fast company. retrieved 18 march 2015.\\n oren jacob, the co-founder and ceo of toytalk interviewed on the tv show triangulation on the twit.tv network\\n \"artificial intelligence script tool\".\\n takahashi, dean. \"elemental\\'s smart connected toy taps ibm\\'s watson supercomputer for its brains\". venture beat. retrieved 15 may 2015.\\n yuan, michael (2018-02-19). chatbots: building intelligent, cross-platform, messaging bots. pearson education. isbn 9780134650616.\\n \"top 60 chatbots\".\\n \"oracle launches a chatbot development platform | venturebeat\". venturebeat.com. retrieved 2017-11-15.\\n \"oracle introduces ai-powered intelligent bots to help enterprises engage customers and employees\". www.oracle.com. retrieved 2017-11-15.\\n \"mobile service | oracle cloud\". cloud.oracle.com. retrieved 2017-11-15.\\n \"from russia with love\" (pdf). retrieved 2007-12-09. psychologist and scientific american: mind contributing editor robert epstein reports how he was initially fooled by a chatterbot posing as an attractive girl in a personal ad he answered on a dating website. in the ad, the girl portrayed herself as being in southern california and then soon revealed, in poor english, that she was actually in russia. he became suspicious after a couple of months of email exchanges, sent her an email test of gibberish, and she still replied in general terms. the dating website is not named. scientific american: mind, october–november 2007, page 16–17, \"from russia with love: how i got fooled (and somewhat humiliated) by a computer\". also available online.\\n bird, jordan j.; ekart, aniko; faria, diego r. (june 2018). advances in computational intelligence systems (1st ed.). nottingham, uk: springer. pp. 179–190. isbn 978-3-319-97982-3. retrieved 3 december 2018.\\n \"fake news\". retrieved 2018-11-20.\\n \"malicious uses\". retrieved 2016-05-11.\\n \"meet 11 of the most interesting chatbots in banking\". retrieved 2019-04-01.\\n \"why chatbots fail (and why natural languages are hard)\". retrieved 2019-04-01.\\n \"how talking machines are taking call centre jobs\". retrieved 2019-04-01.\\n \"how chatbots are killing jobs (and creating new ones)\". june 2017. retrieved 2019-04-01.\\nfurther reading\\ncomputer history museum (2006), \"internet history—1970\\'s\", exhibits, computer history museum, archived from the original on 2008-02-21, retrieved 2008-03-05\\ngüzeldere, güven; franchi, stefano (1995-07-24), \"constructions of the mind\", stanford humanities review, sehr, stanford university, 4 (2), retrieved 2008-03-05\\nmauldin, michael (1994), \"chatterbots, tinymuds, and the turing test: entering the loebner prize competition\", proceedings of the eleventh national conference on artificial intelligence, aaai press, retrieved 2008-03-05 (abstract)\\nnetwork working group (1973), \"rfc 439, parry encounters the doctor\", internet engineering task force, internet society, retrieved 2008-03-05\\nsondheim, alan j (1997), <nettime> important documents from the early internet (1972), nettime.org, archived from the original on 2008-06-13, retrieved 2008-03-05\\nsearle, john (1980), \"minds, brains and programs\", behavioral and brain sciences, 3 (3): 417–457, doi:10.1017/s0140525x00005756\\nshevat, amir (2017). designing bots: creating conversational experiences (first ed.). sebastopol, ca: o\\'reilly media. isbn 9781491974827. oclc 962125282.\\nturing, alan (1950), \"computing machinery and intelligence\", mind, 59 (236): 433–60, doi:10.1093/mind/lix.236.433\\nweizenbaum, joseph (january 1966), \"eliza—a computer program for the study of natural language communication between man and machine\", communications of the acm, 9 (1): 36–45, doi:10.1145/365153.365168\\nvte\\nnatural language processing\\nglobe of letters.svglanguage portal\\ncategories: chatterbotsinstant messaginginteractive narrativenatural language parsing\\nnavigation menu\\nnot logged intalkcontributionscreate accountlog inarticletalkreadeditview historysearch\\nsearch wikipedia\\nmain page\\ncontents\\nfeatured content\\ncurrent events\\nrandom article\\ndonate to wikipedia\\nwikipedia store\\ninteraction\\nhelp\\nabout wikipedia\\ncommunity portal\\nrecent changes\\ncontact page\\ntools\\nwhat links here\\nrelated changes\\nupload file\\nspecial pages\\npermanent link\\npage information\\nwikidata item\\ncite this page\\nin other projects\\nwikimedia commons\\nwikibooks\\nprint/export\\ncreate a book\\ndownload as pdf\\nprintable version\\n\\nlanguages\\nالعربية\\ndeutsch\\nespañol\\nfrançais\\n한국어\\nbahasa indonesia\\nitaliano\\nрусский\\n中文\\n23 more\\nedit links\\nthis page was last edited on 18 july 2019, at 17:10 (utc).\\ntext is available under the creative commons attribution-sharealike license; additional terms may apply. by using this site, you agree to the terms of use and privacy policy. wikipedia® is a registered trademark of the wikimedia foundation, inc., a non-profit organization.\\nprivacy policyabout wikipediadisclaimerscontact wikipediadeveloperscookie statementmobile viewwikimedia foundation powered by mediawiki\\n'"
            ],
            "application/vnd.google.colaboratory.intrinsic+json": {
              "type": "string"
            }
          },
          "metadata": {},
          "execution_count": 15
        }
      ]
    },
    {
      "cell_type": "code",
      "source": [
        "nltk.download('punkt') # first-time use only\n",
        "nltk.download('wordnet') # first-time use only\n",
        "sent_tokens = nltk.sent_tokenize(raw)# converts to list of sentences\n",
        "word_tokens = nltk.word_tokenize(raw)# converts to list of words"
      ],
      "metadata": {
        "colab": {
          "base_uri": "https://localhost:8080/"
        },
        "id": "obH67NN5_04B",
        "outputId": "7c825b41-5872-4cf5-e376-d17c2e3c46e2"
      },
      "execution_count": null,
      "outputs": [
        {
          "output_type": "stream",
          "name": "stderr",
          "text": [
            "[nltk_data] Downloading package punkt to /root/nltk_data...\n",
            "[nltk_data]   Package punkt is already up-to-date!\n",
            "[nltk_data] Downloading package wordnet to /root/nltk_data...\n",
            "[nltk_data]   Package wordnet is already up-to-date!\n"
          ]
        }
      ]
    },
    {
      "cell_type": "code",
      "source": [
        "print(\"Sent Tokens:\")\n",
        "print(sent_tokens[:2])\n",
        "print(word_tokens[:2])\n"
      ],
      "metadata": {
        "colab": {
          "base_uri": "https://localhost:8080/"
        },
        "id": "5rj3ekMU_41S",
        "outputId": "9f8446f0-21a0-4a1c-fb50-98d1a010faf8"
      },
      "execution_count": null,
      "outputs": [
        {
          "output_type": "stream",
          "name": "stdout",
          "text": [
            "Sent Tokens:\n",
            "['\\nchatbot\\nfrom wikipedia, the free encyclopedia\\njump to navigationjump to search\\nfor other uses, see chatbot (disambiguation).', 'a virtual assistant chatbot\\na chatbot is a computer program which conducts a conversation via auditory or textual methods.']\n",
            "['chatbot', 'from']\n"
          ]
        }
      ]
    },
    {
      "cell_type": "code",
      "source": [
        "lemmer = nltk.stem.WordNetLemmatizer()\n",
        "#WordNet is a semantically-oriented dictionary of English included in NLTK.\n",
        "def LemTokens(tokens):\n",
        "    return [lemmer.lemmatize(token) for token in tokens]\n",
        "remove_punct_dict = dict((ord(punct), None) for punct in string.punctuation)\n",
        "def LemNormalize(text):\n",
        "    return LemTokens(nltk.word_tokenize(text.lower().translate(remove_punct_dict)))\n",
        "\n",
        "HOW = (\"How are you?\", \"Howdy\")\n",
        "GREETING_INPUTS = (\"hello\", \"hi\", \"greetings\", \"sup\", \"what's up\",\"hey\",)\n",
        "GREETING_RESPONSES = [\"hi\", \"hey\", \"*nods*\", \"hi there\", \"hello\", \"I am glad! You are talking to me\"]\n"
      ],
      "metadata": {
        "id": "DWZ18UfkAAd4"
      },
      "execution_count": null,
      "outputs": []
    },
    {
      "cell_type": "code",
      "execution_count": null,
      "metadata": {
        "id": "KfKApKkZ9fpm",
        "outputId": "3c7ea55d-1296-4a70-996b-cb4329556b80",
        "colab": {
          "base_uri": "https://localhost:8080/"
        }
      },
      "outputs": [
        {
          "output_type": "stream",
          "name": "stdout",
          "text": [
            "ROBO: My name is Robo. I will answer your queries about Chatbots. If you want to exit, type Bye!\n"
          ]
        }
      ],
      "source": [
        "\n",
        "\n",
        "def greeting(sentence):\n",
        "\n",
        "    for word in sentence.split():\n",
        "        if word.lower() in GREETING_INPUTS:\n",
        "            return random.choice(GREETING_RESPONSES)\n",
        "\n",
        "\n",
        "def response(user_response):\n",
        "    robo_response=''\n",
        "    sent_tokens.append(user_response)\n",
        "    TfidfVec = TfidfVectorizer(tokenizer=LemNormalize, stop_words='english')\n",
        "    tfidf = TfidfVec.fit_transform(sent_tokens)\n",
        "    vals = cosine_similarity(tfidf[-1], tfidf)\n",
        "    idx=vals.argsort()[0][-2]\n",
        "    flat = vals.flatten()\n",
        "    flat.sort()\n",
        "    req_tfidf = flat[-2]\n",
        "    if(req_tfidf==0):\n",
        "        robo_response=robo_response+\"I am sorry! I don't understand you\"\n",
        "        return robo_response\n",
        "    else:\n",
        "        robo_response = robo_response+sent_tokens[idx]\n",
        "        return robo_response\n",
        "\n",
        "flag=True\n",
        "print(\"ROBO: My name is Robo. I will answer your queries about Chatbots. If you want to exit, type Bye!\")\n",
        "while(flag==True):\n",
        "    user_response = input()\n",
        "    user_response=user_response.lower()\n",
        "    if(user_response!='bye'):\n",
        "        if(user_response=='thanks' or user_response=='thank you' ):\n",
        "            flag=False\n",
        "            print(\"ROBO: You are welcome..\")\n",
        "        else:\n",
        "            if(greeting(user_response)!=None):\n",
        "                print(\"ROBO: \"+greeting(user_response))\n",
        "            else:\n",
        "                print(\"ROBO: \",end=\"\")\n",
        "                print(response(user_response))\n",
        "                sent_tokens.remove(user_response)\n",
        "    else:\n",
        "        flag=False\n",
        "        print(\"ROBO: Bye! take care..\")"
      ]
    }
  ]
}