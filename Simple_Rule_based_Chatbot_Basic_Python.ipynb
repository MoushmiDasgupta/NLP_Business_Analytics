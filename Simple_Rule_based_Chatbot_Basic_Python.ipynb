{
  "nbformat": 4,
  "nbformat_minor": 0,
  "metadata": {
    "colab": {
      "provenance": []
    },
    "kernelspec": {
      "name": "python3",
      "display_name": "Python 3"
    },
    "language_info": {
      "name": "python"
    }
  },
  "cells": [
    {
      "cell_type": "code",
      "execution_count": null,
      "metadata": {
        "colab": {
          "base_uri": "https://localhost:8080/"
        },
        "id": "6DZZgnlnskYH",
        "outputId": "300f0fbd-350f-4b70-99d8-adcc2b68ef8a"
      },
      "outputs": [
        {
          "output_type": "stream",
          "name": "stdout",
          "text": [
            "Hi there, Please enter the name of game\n",
            "Wizkid\n",
            "Please enter your review\n",
            "1\n",
            "Sorry to hear that\n",
            "That is a very neutral view on Wizkid\n",
            "Good talking to you ,Catch ya later, \n"
          ]
        }
      ],
      "source": [
        "#0 Import libraries\n",
        "import random\n",
        "from textblob import TextBlob\n",
        "\n",
        "#1. Name and review for conversation\n",
        "print('Hi there, Please enter the name of game')\n",
        "name = input()\n",
        "\n",
        "print('Please enter your review')\n",
        "reveiw = input()\n",
        "\n",
        "blob = TextBlob(reveiw)\n",
        "\n",
        "if blob.polarity > 0:\n",
        "  print('Glad you are enjoying ')\n",
        "else:\n",
        "  print('Sorry to hear that')\n",
        "\n",
        "  if blob.polarity > 0.5:\n",
        "    print('OMG you really love ' + name)\n",
        "  elif blob.polarity > 0.1:\n",
        "    print('Well, you clearly like '+ name)\n",
        "  elif blob.polarity < -0.5:\n",
        "    print('Woof, you totally hate '+ name)\n",
        "  elif blob.polarity < -0.1:\n",
        "    print(\"So you don't like \"+ name)\n",
        "  else:\n",
        "    print('That is a very neutral view on '+ name)\n",
        "\n",
        "goodbyes = [\n",
        "\t'Good talking to you '\n",
        "\t',Catch ya later, '\n",
        "]\n",
        "print(random.choice(goodbyes))"
      ]
    }
  ]
}