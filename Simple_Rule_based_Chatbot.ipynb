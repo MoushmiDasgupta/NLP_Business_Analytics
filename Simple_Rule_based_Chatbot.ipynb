{
  "nbformat": 4,
  "nbformat_minor": 0,
  "metadata": {
    "colab": {
      "provenance": []
    },
    "kernelspec": {
      "name": "python3",
      "display_name": "Python 3"
    },
    "language_info": {
      "name": "python"
    }
  },
  "cells": [
    {
      "cell_type": "code",
      "execution_count": null,
      "metadata": {
        "id": "5LK6PNHJ28DE"
      },
      "outputs": [],
      "source": [
        "import nltk\n",
        "from nltk.chat.util import Chat, reflections"
      ]
    },
    {
      "cell_type": "code",
      "source": [
        "print(Chat)"
      ],
      "metadata": {
        "colab": {
          "base_uri": "https://localhost:8080/"
        },
        "id": "8aS7Pxm_3Ayc",
        "outputId": "00a44dde-6545-4c50-be42-b25277d5d5e9"
      },
      "execution_count": null,
      "outputs": [
        {
          "output_type": "stream",
          "name": "stdout",
          "text": [
            "<class 'nltk.chat.util.Chat'>\n"
          ]
        }
      ]
    },
    {
      "cell_type": "code",
      "source": [
        "reflections"
      ],
      "metadata": {
        "colab": {
          "base_uri": "https://localhost:8080/"
        },
        "id": "1a7CwAAY3EpY",
        "outputId": "9f6ac075-7230-4f06-a0e2-d1d69cdfefd0"
      },
      "execution_count": null,
      "outputs": [
        {
          "output_type": "execute_result",
          "data": {
            "text/plain": [
              "{'i am': 'you are',\n",
              " 'i was': 'you were',\n",
              " 'i': 'you',\n",
              " \"i'm\": 'you are',\n",
              " \"i'd\": 'you would',\n",
              " \"i've\": 'you have',\n",
              " \"i'll\": 'you will',\n",
              " 'my': 'your',\n",
              " 'you are': 'I am',\n",
              " 'you were': 'I was',\n",
              " \"you've\": 'I have',\n",
              " \"you'll\": 'I will',\n",
              " 'your': 'my',\n",
              " 'yours': 'mine',\n",
              " 'you': 'me',\n",
              " 'me': 'you'}"
            ]
          },
          "metadata": {},
          "execution_count": 3
        }
      ]
    },
    {
      "cell_type": "code",
      "source": [
        "set_pairs = [\n",
        "    [\n",
        "        r\"my name is (.*)\",\n",
        "        [\"Hello %1, How are you doing today ?\",]\n",
        "    ],\n",
        "    [\n",
        "        r\"hi|hey|hello\",\n",
        "        [\"Hello\", \"Hey there\",]\n",
        "    ], \n",
        "    [\n",
        "        r\"what is your name?\",\n",
        "        [\"You can call me a chatbot ?\",]\n",
        "    ],\n",
        "    [\n",
        "        r\"how are you ?\",\n",
        "        [\"I am fine, thank you! How can i help you?\",]\n",
        "     ],\n",
        "    [\n",
        "        r\"I am fine, thank you\",\n",
        "        [\"great to hear that, how can i help you?\",]\n",
        "    ],\n",
        "    [\n",
        "        r\"how can i help you? \",\n",
        "        [\"i am looking for online guides and courses to learn data science, can you suggest?\", \"i am looking for data science training platforms\",]\n",
        "    ],\n",
        "    [\n",
        "        r\"i'm (.*) doing good\",\n",
        "        [\"That's great to hear\",\"How can i help you?:)\",]\n",
        "    ],\n",
        "    [\n",
        "        r\"i am looking for online guides and courses to learn data science, can you suggest?\",\n",
        "        [\"Pluralsight is a great option to learn data science. You can check their website\",]\n",
        "    ],\n",
        "    [\n",
        "        r\"thanks for the suggestion. do they have great authors and instructors?\",\n",
        "        [\"Yes, they have the world class best authors, that is their strength;)\",]\n",
        "    ],\n",
        "    [\n",
        "        r\"(.*) thank you so much, that was helpful\",\n",
        "        [\"Iam happy to help\", \"No problem, you're welcome\",]\n",
        "    ],\n",
        "    [\n",
        "        r\"quit\",\n",
        "    [\"Bye, take care. See you soon :) \",\"It was nice talking to you. See you soon :)\"]\n",
        "],\n",
        "]"
      ],
      "metadata": {
        "id": "LOwGdBJO3N7k"
      },
      "execution_count": null,
      "outputs": []
    },
    {
      "cell_type": "code",
      "source": [
        "def chatbot():\n",
        "        print(\"Hi, I'm the chatbot you built\") \n",
        "\n",
        "chatbot()"
      ],
      "metadata": {
        "colab": {
          "base_uri": "https://localhost:8080/"
        },
        "id": "CUEpPq833cpe",
        "outputId": "5db392f4-7616-4118-8ec4-9a9a6618b3e3"
      },
      "execution_count": null,
      "outputs": [
        {
          "output_type": "stream",
          "name": "stdout",
          "text": [
            "Hi, I'm the chatbot you built\n"
          ]
        }
      ]
    },
    {
      "cell_type": "code",
      "source": [
        "chat = Chat(set_pairs, reflections)\n",
        "print(chat)"
      ],
      "metadata": {
        "colab": {
          "base_uri": "https://localhost:8080/"
        },
        "id": "Ct1N8fds3hbM",
        "outputId": "e1128ba5-5bcb-4ab9-a00b-612074559315"
      },
      "execution_count": null,
      "outputs": [
        {
          "output_type": "stream",
          "name": "stdout",
          "text": [
            "<nltk.chat.util.Chat object at 0x7fd20bb0e190>\n"
          ]
        }
      ]
    },
    {
      "cell_type": "code",
      "source": [
        "chat.converse()\n",
        "if __name__ == \"__main__\":\n",
        "    chatbot()"
      ],
      "metadata": {
        "colab": {
          "base_uri": "https://localhost:8080/"
        },
        "id": "1MuMUTDG3lpb",
        "outputId": "8297f224-eee7-4c86-ab94-091ccbd53e18"
      },
      "execution_count": null,
      "outputs": [
        {
          "output_type": "stream",
          "name": "stdout",
          "text": [
            ">hi\n",
            "Hello\n",
            ">what is your name?\n",
            "You can call me a chatbot ?\n",
            ">I am looking for online guides to learn datascience\n",
            "None\n",
            ">i am looking for online guides to learn data science can you help?\n",
            "None\n",
            ">bye\n",
            "None\n",
            ">Bye\n",
            "None\n",
            ">quit\n",
            "It was nice talking to you. See you soon :)\n",
            "Hi, I'm the chatbot you built\n"
          ]
        }
      ]
    }
  ]
}